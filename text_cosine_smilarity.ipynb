{
  "nbformat": 4,
  "nbformat_minor": 0,
  "metadata": {
    "colab": {
      "provenance": [],
      "authorship_tag": "ABX9TyOLZR6Xdfi8Lh2xhpLIAi+1",
      "include_colab_link": true
    },
    "kernelspec": {
      "name": "python3",
      "display_name": "Python 3"
    },
    "language_info": {
      "name": "python"
    }
  },
  "cells": [
    {
      "cell_type": "markdown",
      "metadata": {
        "id": "view-in-github",
        "colab_type": "text"
      },
      "source": [
        "<a href=\"https://colab.research.google.com/github/jarryMin/mot_jm/blob/main/text_cosine_smilarity.ipynb\" target=\"_parent\"><img src=\"https://colab.research.google.com/assets/colab-badge.svg\" alt=\"Open In Colab\"/></a>"
      ]
    },
    {
      "cell_type": "code",
      "execution_count": null,
      "metadata": {
        "id": "U5WsK4W40l_x"
      },
      "outputs": [],
      "source": [
        "import os\n",
        "from numpy import vectorize \n",
        "from sklearn.feature_extraction.text import TfidfVectorizer\n",
        "from sklearn.metrics.pairwise import cosine_similarity"
      ]
    },
    {
      "cell_type": "code",
      "source": [
        "sample_files = [doc for doc in os.listdir() if doc.endswith('.txt')]\n",
        "sample_contents = [open(File).read() for File in sample_files]"
      ],
      "metadata": {
        "id": "nAFT5c8P1An5"
      },
      "execution_count": null,
      "outputs": []
    },
    {
      "cell_type": "code",
      "source": [
        "vectorize = lambda Text: TfidfVectorizer().fit_transform(Text).toarray()\n",
        "similarity = lambda doc1, doc2: cosine_similarity([doc1, doc2])"
      ],
      "metadata": {
        "id": "pZMybzZd1CUx"
      },
      "execution_count": null,
      "outputs": []
    },
    {
      "cell_type": "code",
      "source": [
        "vectors = vectorize(sample_contents)\n",
        "s_vectors = list(zip(sample_files, vectors))"
      ],
      "metadata": {
        "id": "hkKdiUyb1Ey4"
      },
      "execution_count": null,
      "outputs": []
    },
    {
      "cell_type": "code",
      "source": [
        "def check_plagiarism():\n",
        "    results = set()\n",
        "    global s_vectors\n",
        "    for sample_a, text_vector_a in s_vectors:\n",
        "        new_vectors = s_vectors.copy()\n",
        "        current_index = new_vectors.index((sample_a, text_vector_a))\n",
        "        del new_vectors[current_index]\n",
        "        for sample_b, text_vector_b in new_vectors:\n",
        "            sim_score = similarity(text_vector_a, text_vector_b)[0][1]\n",
        "            sample_pair = sorted((sample_a, sample_b))\n",
        "            score = sample_pair[0], sample_pair[1], sim_score\n",
        "            results.add(score)\n",
        "    return results"
      ],
      "metadata": {
        "id": "n1QQa0dh1HSl"
      },
      "execution_count": null,
      "outputs": []
    },
    {
      "cell_type": "code",
      "source": [
        "for data in check_plagiarism():\n",
        "    print(data)    "
      ],
      "metadata": {
        "id": "LikbGEC21I44"
      },
      "execution_count": null,
      "outputs": []
    }
  ]
}