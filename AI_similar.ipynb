{
  "nbformat": 4,
  "nbformat_minor": 0,
  "metadata": {
    "colab": {
      "provenance": [],
      "mount_file_id": "1sGUZEuegX73Vuk_ZDyNTSpT-dUzDAbKN",
      "authorship_tag": "ABX9TyM69TQzOWbjUf/A5fAr+5lj",
      "include_colab_link": true
    },
    "kernelspec": {
      "name": "python3",
      "display_name": "Python 3"
    },
    "language_info": {
      "name": "python"
    }
  },
  "cells": [
    {
      "cell_type": "markdown",
      "metadata": {
        "id": "view-in-github",
        "colab_type": "text"
      },
      "source": [
        "<a href=\"https://colab.research.google.com/github/jarryMin/mot_jm/blob/main/AI_similar.ipynb\" target=\"_parent\"><img src=\"https://colab.research.google.com/assets/colab-badge.svg\" alt=\"Open In Colab\"/></a>"
      ]
    },
    {
      "cell_type": "markdown",
      "source": [
        "import"
      ],
      "metadata": {
        "id": "6gXNZ761xx3h"
      }
    },
    {
      "cell_type": "code",
      "source": [
        "from google.colab import drive\n",
        "drive.mount('/content/drive')"
      ],
      "metadata": {
        "id": "ESyu8uJTzR1n"
      },
      "execution_count": null,
      "outputs": []
    },
    {
      "cell_type": "code",
      "execution_count": null,
      "metadata": {
        "id": "Ljd4Ei1mxcAW"
      },
      "outputs": [],
      "source": [
        "import pandas as pd\n",
        "import numpy as np\n",
        "from sklearn.feature_extraction.text import CountVectorizer\n",
        "from sklearn.metrics.pairwise import cosine_similarity"
      ]
    },
    {
      "cell_type": "code",
      "source": [
        "#!unzip data/open.zip -d data/\n",
        "#!pip install transformers datasets\n",
        "# https://wikidocs.net/166806"
      ],
      "metadata": {
        "id": "lDKIqPXRzZij"
      },
      "execution_count": null,
      "outputs": []
    },
    {
      "cell_type": "markdown",
      "source": [
        "Load Train / Test dataset"
      ],
      "metadata": {
        "id": "Z5uFLdJmx2w1"
      }
    },
    {
      "cell_type": "code",
      "source": [
        "train = pd.read_csv(\"/content/drive/MyDrive/similar/sample_train.csv\")\n",
        "train.head()"
      ],
      "metadata": {
        "id": "rUyWAEH6xgOl"
      },
      "execution_count": null,
      "outputs": []
    },
    {
      "cell_type": "code",
      "source": [
        "test = pd.read_csv(\"/content/drive/MyDrive/similar/test.csv\")\n",
        "test.head()"
      ],
      "metadata": {
        "id": "pO2GFq9LxvqM"
      },
      "execution_count": null,
      "outputs": []
    },
    {
      "cell_type": "markdown",
      "source": [
        "Define Model (CountVectorizer+CosineSimilarity)"
      ],
      "metadata": {
        "id": "RvJDNMm-xxHh"
      }
    },
    {
      "cell_type": "code",
      "source": [
        "class BaselineModel():\n",
        "    def __init__(self, threshold=0.5):\n",
        "        super(BaselineModel, self).__init__()\n",
        "        self.threshold = threshold # 유사도 임계값\n",
        "        self.vectorizer = CountVectorizer()\n",
        "        \n",
        "    def fit(self, code1, code2):\n",
        "        # 입력 받은 코드 쌍으로 부터 vectorizer를 fit 시킵니다.\n",
        "        self.vectorizer.fit(code1)\n",
        "        self.vectorizer.fit(code2)\n",
        "        print('Done.')\n",
        "    \n",
        "    def predict_proba(self, code1, code2):\n",
        "        # 입력 받은 코드 쌍으로 부터 vectorizer를 통해 vector화 합니다.\n",
        "        code1_vecs = self.vectorizer.transform(code1)\n",
        "        code2_vecs = self.vectorizer.transform(code2)\n",
        "        \n",
        "        preds = []\n",
        "        # 각각의 코드 쌍(=벡터 쌍)으로부터 cosine-similarity를 구합니다.\n",
        "        for code1_vec, code2_vec in zip(code1_vecs, code2_vecs):\n",
        "            preds.append(cosine_similarity(code1_vec, code2_vec))\n",
        "        \n",
        "        preds = np.reshape(preds, len(preds))\n",
        "        print('Done.')\n",
        "        # 각 코드 쌍들의 유사도를 반환\n",
        "        return preds\n",
        "    \n",
        "    def predict(self, code1, code2):\n",
        "        preds = self.predict_proba(code1, code2)\n",
        "        # cosine-similarity (유사도)가 설정한 임계값(Threshold=0.5)보다 높다면 유사하다 : 1, 아니라면 유사하지 않다 : 0\n",
        "        preds = np.where(preds>self.threshold, 1, 0)\n",
        "        # 각 코드 쌍들의 유사도를 Threshold를 통해 유사함을 판별 (이진분류)\n",
        "        return preds"
      ],
      "metadata": {
        "id": "JZJH2P_Vx7jx"
      },
      "execution_count": null,
      "outputs": []
    },
    {
      "cell_type": "markdown",
      "source": [
        "Model(Vectorizer) Fit"
      ],
      "metadata": {
        "id": "j9B41AobyBi9"
      }
    },
    {
      "cell_type": "code",
      "source": [
        "# 모델 선언\n",
        "model = BaselineModel(threshold=0.5)\n",
        "# 학습 코드 쌍들로부터 Model을 Fitting\n",
        "model.fit(train['code1'], train['code2'])"
      ],
      "metadata": {
        "id": "8aFHvsL2yAfR"
      },
      "execution_count": null,
      "outputs": []
    },
    {
      "cell_type": "markdown",
      "source": [
        "infernece"
      ],
      "metadata": {
        "id": "_Ltwr1epyEyl"
      }
    },
    {
      "cell_type": "code",
      "source": [
        "# 모델 추론\n",
        "preds = model.predict(test['code1'], test['code2'])"
      ],
      "metadata": {
        "id": "BDHoW50gyD-b"
      },
      "execution_count": null,
      "outputs": []
    },
    {
      "cell_type": "markdown",
      "source": [
        "Submission"
      ],
      "metadata": {
        "id": "G-aotVBxyL4e"
      }
    },
    {
      "cell_type": "code",
      "source": [
        "submission = pd.read_csv('/content/drive/MyDrive/similar/sample_submission.csv')\n",
        "submission['similar'] = preds\n",
        "submission.to_csv('/content/drive/MyDrive/similar/submission.csv', index=False)"
      ],
      "metadata": {
        "id": "5eg4GnZmyJMJ"
      },
      "execution_count": 8,
      "outputs": []
    }
  ]
}